{
  "nbformat": 4,
  "nbformat_minor": 0,
  "metadata": {
    "colab": {
      "name": "DenseNet169_Best.ipynb",
      "provenance": [],
      "collapsed_sections": []
    },
    "kernelspec": {
      "display_name": "Python 3",
      "name": "python3"
    },
    "language_info": {
      "name": "python"
    }
  },
  "cells": [
    {
      "cell_type": "markdown",
      "metadata": {
        "id": "LoqEXIBjAZHF"
      },
      "source": [
        "# import libraries"
      ]
    },
    {
      "cell_type": "code",
      "metadata": {
        "id": "XY9ZwuXyAPla"
      },
      "source": [
        "from glob import glob\n",
        "import cv2\n",
        "from matplotlib import pyplot as plt\n",
        "import numpy as np\n",
        "from sklearn.model_selection import train_test_split\n",
        "from keras.applications.densenet import DenseNet169\n",
        "from sklearn.model_selection import cross_validate, KFold\n",
        "from keras.losses import SparseCategoricalCrossentropy, CategoricalCrossentropy\n",
        "from xgboost import XGBClassifier\n",
        "from sklearn.metrics import mean_squared_error, r2_score, accuracy_score, confusion_matrix, f1_score, precision_score, recall_score, roc_curve, auc\n",
        "from google.colab import drive"
      ],
      "execution_count": 4,
      "outputs": []
    },
    {
      "cell_type": "markdown",
      "metadata": {
        "id": "5Mm7xwcmA8K9"
      },
      "source": [
        "# Get Dataset"
      ]
    },
    {
      "cell_type": "markdown",
      "metadata": {
        "id": "VmAmRoiABaqY"
      },
      "source": [
        "Download dataset first time and save to google drive\n"
      ]
    },
    {
      "cell_type": "code",
      "metadata": {
        "id": "gpgmf6FzLzJa"
      },
      "source": [
        "drive.mount('/content/drive')\n",
        "# ! wget -P /content/drive/MyDrive https://github.com/muhammedtalo/COVID-19/archive/refs/heads/master.zip\n",
        "# ! unzip -q /content/drive/MyDrive/master.zip -d /content/drive/MyDrive/Dataset"
      ],
      "execution_count": null,
      "outputs": []
    },
    {
      "cell_type": "markdown",
      "metadata": {
        "id": "TMjqP8JCMj0Z"
      },
      "source": [
        "run this cell when dataset exist in google drive"
      ]
    },
    {
      "cell_type": "code",
      "metadata": {
        "id": "I1-aFiv0BCzQ"
      },
      "source": [
        "drive.mount('/content/drive')"
      ],
      "execution_count": null,
      "outputs": []
    },
    {
      "cell_type": "markdown",
      "metadata": {
        "id": "Dy9-WGzGDf0U"
      },
      "source": [
        "# Load Data"
      ]
    },
    {
      "cell_type": "markdown",
      "metadata": {
        "id": "KArYv9ydFyTu"
      },
      "source": [
        "load images directory"
      ]
    },
    {
      "cell_type": "code",
      "metadata": {
        "id": "Ui3Ss2kpDiYl"
      },
      "source": [
        "images_path = {}\n",
        "images_path[\"Covid\"] = glob(\"/content/drive/MyDrive/Dataset/COVID-19-master/X-Ray Image DataSet/Covid-19/*.png\")\n",
        "images_path[\"Covid\"] += glob(\"/content/drive/MyDrive/Dataset/COVID-19-master/X-Ray Image DataSet/Covid-19/*.jpeg\")\n",
        "images_path[\"Covid\"] += glob(\"/content/drive/MyDrive/Dataset/COVID-19-master/X-Ray Image DataSet/Covid-19/*.jpg\")\n",
        "\n",
        "images_path[\"NoFindings\"] = glob(\"/content/drive/MyDrive/Dataset/COVID-19-master/X-Ray Image DataSet/No_findings/*.png\")\n",
        "images_path[\"NoFindings\"] += glob(\"/content/drive/MyDrive/Dataset/COVID-19-master/X-Ray Image DataSet/No_findings/*.jpeg\")\n",
        "images_path[\"NoFindings\"] += glob(\"/content/drive/MyDrive/Dataset/COVID-19-master/X-Ray Image DataSet/No_findings/*.jpg\")\n",
        "\n",
        "images_path[\"Pneumonia\"] = glob(\"/content/drive/MyDrive/Dataset/COVID-19-master/X-Ray Image DataSet/Pneumonia/*.png\")\n",
        "images_path[\"Pneumonia\"] += glob(\"/content/drive/MyDrive/Dataset/COVID-19-master/X-Ray Image DataSet/Pneumonia/*.jpeg\")\n",
        "images_path[\"Pneumonia\"] += glob(\"/content/drive/MyDrive/Dataset/COVID-19-master/X-Ray Image DataSet/Pneumonia/*.jpg\")\n",
        "\n",
        "print(images_path[\"Covid\"])\n",
        "print(images_path[\"NoFindings\"])\n",
        "print(images_path[\"Pneumonia\"])\n",
        "\n",
        "images_class = {\n",
        "    \"Covid\": 0,\n",
        "    \"Pneumonia\": 1,\n",
        "    \"NoFindings\": 2\n",
        "}"
      ],
      "execution_count": null,
      "outputs": []
    },
    {
      "cell_type": "code",
      "metadata": {
        "id": "KhFLXOzFF1un"
      },
      "source": [
        "X = []\n",
        "Y = []\n",
        "\n",
        "for label in images_path:\n",
        "    for image_path in images_path[label]:\n",
        "        image = cv2.imread(image_path)\n",
        "        image = cv2.resize(image,(224, 224))\n",
        "        X.append(image)\n",
        "        Y.append(images_class[label])\n",
        "\n",
        "plt.imshow(X[0])\n",
        "plt.show()"
      ],
      "execution_count": null,
      "outputs": []
    },
    {
      "cell_type": "code",
      "metadata": {
        "id": "YaCpEQ7am6fH"
      },
      "source": [
        "print(np.array(X).shape)\n",
        "print(np.array(Y).shape)\n",
        "plt.imshow(X[1000])"
      ],
      "execution_count": null,
      "outputs": []
    },
    {
      "cell_type": "markdown",
      "metadata": {
        "id": "S4UzIoPOMNl-"
      },
      "source": [
        "# Build model"
      ]
    },
    {
      "cell_type": "markdown",
      "metadata": {
        "id": "bnvGdpapMl0v"
      },
      "source": [
        "build model and get features"
      ]
    },
    {
      "cell_type": "code",
      "metadata": {
        "id": "FbDogCuIFVbC"
      },
      "source": [
        "x = np.array(X)\n",
        "y = np.array(Y)\n",
        "\n",
        "# initial pre trained model\n",
        "pre_trained_models = {}\n",
        "pre_trained_models[\"DenseNet169\"] = DenseNet169(include_top=False, input_shape=(224, 224, 3), pooling=\"avg\")\n"
      ],
      "execution_count": null,
      "outputs": []
    },
    {
      "cell_type": "markdown",
      "metadata": {
        "id": "oAV7TwNWKWyM"
      },
      "source": [
        "# Split train and test data "
      ]
    },
    {
      "cell_type": "markdown",
      "metadata": {
        "id": "XsVjaJCyMbF7"
      },
      "source": [
        "slpit and make flatten features"
      ]
    },
    {
      "cell_type": "code",
      "metadata": {
        "id": "FGKrN6G1MWwt"
      },
      "source": [
        "X_train, X_test, Y_train, Y_test = train_test_split(x, y, test_size=0.2, random_state=80)\n",
        "\n",
        "X_train = pre_trained_models[\"DenseNet169\"].predict(X_train)\n",
        "X_test = pre_trained_models[\"DenseNet169\"].predict(X_test)"
      ],
      "execution_count": null,
      "outputs": []
    },
    {
      "cell_type": "markdown",
      "metadata": {
        "id": "OcDx9uZdMqST"
      },
      "source": [
        "# Classification"
      ]
    },
    {
      "cell_type": "markdown",
      "metadata": {
        "id": "F2IKHDVMOLUv"
      },
      "source": [
        "initial XGBoost classifier"
      ]
    },
    {
      "cell_type": "code",
      "metadata": {
        "id": "6JyeyIbBKcSP"
      },
      "source": [
        "result = {}\n",
        "\n",
        "XGB_Classifier = XGBClassifier(learning_rate=0.44, n_estimators=100, random_state=0, seed=0, gamma=0)"
      ],
      "execution_count": null,
      "outputs": []
    },
    {
      "cell_type": "markdown",
      "metadata": {
        "id": "w7_Q73YoOUOy"
      },
      "source": [
        "fit XGBoost classifier"
      ]
    },
    {
      "cell_type": "code",
      "metadata": {
        "id": "0xw4PENKOQsM"
      },
      "source": [
        "XGB_Classifier.fit(X_train, Y_train)\n",
        "\n",
        "Y_pred = XGB_Classifier.predict(X_test)"
      ],
      "execution_count": null,
      "outputs": []
    },
    {
      "cell_type": "markdown",
      "metadata": {
        "id": "7vFIraacOYif"
      },
      "source": [
        "print result"
      ]
    },
    {
      "cell_type": "code",
      "metadata": {
        "id": "GybamzQ_OYCW"
      },
      "source": [
        "result[\"Accuracy score\"] = accuracy_score(Y_test, Y_pred)\n",
        "result[\"confusion matrix\"] = confusion_matrix(Y_test, Y_pred)\n",
        "result[\"f1 score\"] = f1_score(Y_test, Y_pred, average=\"macro\")\n",
        "result[\"precision score\"] = precision_score(Y_test, Y_pred, average=\"macro\")\n",
        "result[\"Sensitivity\"] = result[\"confusion matrix\"][0,0] / (result[\"confusion matrix\"][0,0] + result[\"confusion matrix\"][0,1])\n",
        "result[\"Specifity\"] = result[\"confusion matrix\"][1,1] / (result[\"confusion matrix\"][1,0] + result[\"confusion matrix\"][1,1])\n",
        "\n",
        "print(f\"\\n============\")\n",
        "print(f\"\\nAccuracy score : \", result[\"Accuracy score\"])\n",
        "print(f\"\\nconfusion matrix : \\n\", result[\"confusion matrix\"])\n",
        "print(f\"\\nf1 score : \", result[\"f1 score\"])\n",
        "print(f\"\\nprecision score : \", result[\"precision score\"])\n",
        "print(f\"\\nSpecifity : \", result[\"Specifity\"])\n",
        "print(f\"\\nSensitivity : \", result[\"Sensitivity\"])"
      ],
      "execution_count": null,
      "outputs": []
    },
    {
      "cell_type": "code",
      "metadata": {
        "id": "etw59gg-5rDo"
      },
      "source": [
        "from sklearn.metrics import roc_curve, auc\n",
        "\n",
        "from sklearn import preprocessing\n",
        "y_test = preprocessing.label_binarize(Y_test, classes=[0, 1])\n",
        "y_pred = preprocessing.label_binarize(Y_pred, classes=[0, 1])\n",
        "print(y_test.shape)\n",
        "print(y_test.shape)\n",
        "\n",
        "n_classes = list(Y_test.shape)\n",
        "\n",
        "# Compute ROC curve and ROC area for each class\n",
        "fpr = dict()\n",
        "tpr = dict()\n",
        "roc_auc = dict()\n",
        "for i in range(2):\n",
        "    fpr[i], tpr[i], _ = roc_curve(y_test[:, i], y_pred[:, i])\n",
        "    roc_auc[i] = auc(fpr[i], tpr[i])\n",
        "\n",
        "# Compute micro-average ROC curve and ROC area\n",
        "\n",
        "fpr[\"micro\"], tpr[\"micro\"], _ = roc_curve(y_test.ravel(), y_pred.ravel())\n",
        "roc_auc[\"micro\"] = auc(fpr[\"micro\"], tpr[\"micro\"])\n",
        "\n",
        "plt.figure()\n",
        "lw = 2\n",
        "plt.plot(fpr[1], tpr[1], color='darkorange',\n",
        "         lw=lw, label='ROC curve (AUC = %0.2f)' % roc_auc[1])\n",
        "plt.plot([0, 1], [0, 1], color='navy', lw=lw, linestyle='--')\n",
        "plt.xlim([0.0, 1.0])\n",
        "plt.ylim([0.0, 1.0])\n",
        "plt.xlabel('False Positive Rate')\n",
        "plt.ylabel('True Positive Rate')\n",
        "plt.title('Receiver operating characteristic')\n",
        "plt.legend(loc=\"lower right\")\n",
        "plt.savefig(\"roc.svg\", format=\"svg\")\n",
        "plt.show()"
      ],
      "execution_count": null,
      "outputs": []
    },
    {
      "cell_type": "code",
      "metadata": {
        "id": "K_3acwuQNTR-"
      },
      "source": [
        "\n",
        "import sklearn\n",
        "import pandas as pd\n",
        "\n",
        "scoring = ['precision_macro', 'f1_macro', \"accuracy\"]\n",
        "\n",
        "rs = 229\n",
        "cv = KFold(n_splits=5, random_state=rs, shuffle=True)\n",
        "scores = cross_validate(XGB_Classifier, features, y, cv=cv, scoring=scoring)\n",
        "scr = pd.DataFrame(scores)\n",
        "print(f\"======== KFold random state {rs} ==========\")\n",
        "print(scr)\n",
        "print(\"accuracy avg : \", scr[\"test_accuracy\"].mean())"
      ],
      "execution_count": null,
      "outputs": []
    },
    {
      "cell_type": "code",
      "metadata": {
        "id": "PoHWA56b5rjt"
      },
      "source": [
        "f = 0\n",
        "for train_ix, test_ix in cv.split(features):\n",
        "    # get data\n",
        "    train_X, test_X = features[train_ix], features[test_ix]\n",
        "    train_y, test_y = y[train_ix], y[test_ix]\n",
        "    # fit model\n",
        "    model = XGB_Classifier\n",
        "    model.fit(train_X, train_y)\n",
        "    # evaluate model\n",
        "    yhat = model.predict(test_X)\n",
        "    acc = accuracy_score(test_y, yhat)\n",
        "    # store score\n",
        "    print(f\"\\n confusion matrix fold {f}\")\n",
        "    f = f+1\n",
        "    print(confusion_matrix(test_y, yhat))"
      ],
      "execution_count": null,
      "outputs": []
    }
  ]
}